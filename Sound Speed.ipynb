{
 "cells": [
  {
   "cell_type": "code",
   "execution_count": 1,
   "metadata": {},
   "outputs": [],
   "source": [
    "%matplotlib inline\n",
    "import numpy as np\n",
    "import matplotlib.pyplot as plt\n",
    "from scipy.optimize import curve_fit\n",
    "import math"
   ]
  },
  {
   "cell_type": "code",
   "execution_count": 2,
   "metadata": {},
   "outputs": [],
   "source": [
    "def linear_model(x, a, b):\n",
    "    return a * x + b\n",
    "\n",
    "# use self defined stdev function because the numpy one calculates population std\n",
    "def stdev(array):\n",
    "    if len(array) <= 1:\n",
    "        return None\n",
    "    mean = np.average(array)\n",
    "    sum_array = (array - mean)**2\n",
    "    return math.sqrt(sum(sum_array)/(len(array)-1))"
   ]
  },
  {
   "cell_type": "code",
   "execution_count": 3,
   "metadata": {},
   "outputs": [],
   "source": [
    "# Exercise 1, calculating wavelength of Na light source\n",
    "# angles in degrees\n",
    "d = 0.0254 / 2500 # 2500 per inch, so 2500 per 0.0254 m\n",
    "dm_0 = 169 + 0.5 + 12/60 # 12 minutes\n",
    "dm_p1 = 173 + 8/60 # 8 minutes\n",
    "dm_p2 = 176 + 0.5 + 7/60\n",
    "dm_n1 = 166 + 21/60\n",
    "dm_n2 = 162 + 0.5 + 25/60\n",
    "\n",
    "# convert these to radians\n",
    "dm_0 = np.deg2rad(dm_0)\n",
    "dm_p1 = np.deg2rad(dm_p1)\n",
    "dm_p2 = np.deg2rad(dm_p2)\n",
    "dm_n1 = np.deg2rad(dm_n1)\n",
    "dm_n2 = np.deg2rad(dm_n2)"
   ]
  },
  {
   "cell_type": "code",
   "execution_count": 4,
   "metadata": {},
   "outputs": [
    {
     "name": "stdout",
     "output_type": "stream",
     "text": [
      "The wavelength of the sodium light source is 6.03485474925509e-07 ± 8.182816816911318e-09 m\n"
     ]
    }
   ],
   "source": [
    "# calculate respective lambda values\n",
    "lambda_p1 = d * np.sin(np.abs(dm_p1 - dm_0)) / 1\n",
    "lambda_p2 = d * np.sin(np.abs(dm_p2 - dm_0)) / 2\n",
    "lambda_n1 = d * np.sin(np.abs(dm_n1 - dm_0)) / 1\n",
    "lambda_n2 = d * np.sin(np.abs(dm_n2 - dm_0)) / 2\n",
    "\n",
    "lambda_arr = np.array([lambda_n1, lambda_n2, lambda_p1, lambda_p2])\n",
    "\n",
    "lambda_ave = np.average(lambda_arr)\n",
    "u_lambda_ave = stdev(lambda_arr)\n",
    "print('The wavelength of the sodium light source is', lambda_ave, '±', u_lambda_ave, 'm')"
   ]
  },
  {
   "cell_type": "code",
   "execution_count": 5,
   "metadata": {},
   "outputs": [],
   "source": [
    "freq, at_0, at_n2, at_p2 = np.loadtxt('freq_water_diffraction.txt', skiprows=1, unpack=True)"
   ]
  },
  {
   "cell_type": "code",
   "execution_count": 6,
   "metadata": {},
   "outputs": [
    {
     "name": "stdout",
     "output_type": "stream",
     "text": [
      "Wavelength of sound at frequency 2.0 MHz is 0.0009220581489383921 ± 6.678134293462157e-05 m\n",
      "Wavelength of sound at frequency 1.824 MHz is 0.0008298523896344005 ± 4.8273259950935394e-05 m\n",
      "Wavelength of sound at frequency 1.902 MHz is 0.0008298523896344005 ± 4.8273259950935394e-05 m\n",
      "Wavelength of sound at frequency 1.954 MHz is 0.0009220581489383921 ± 6.678134293462157e-05 m\n",
      "Wavelength of sound at frequency 2.019 MHz is 0.0007544113191598336 ± 3.714616876976114e-05 m\n",
      "Wavelength of sound at frequency 1.905 MHz is 0.0010373153553828408 ± 0.00010178541890236104 m\n",
      "Wavelength of sound at frequency 1.836 MHz is 0.0009220581489383921 ± 6.678134293462157e-05 m\n",
      "Wavelength of sound at frequency 1.835 MHz is 0.0011855032005993688 ± 0.00018311064205979823 m\n"
     ]
    }
   ],
   "source": [
    "angles_n2 = at_0 - at_n2\n",
    "angles_p2 = at_p2 - at_0\n",
    "angles = (angles_n2 + angles_p2) / 2\n",
    "u_angles = np.sqrt((1/angles_n2)**2 + (1/angles_p2)**2)\n",
    "# convert minutes to radians\n",
    "angles = np.deg2rad(angles/60)\n",
    "u_angles = np.deg2rad(u_angles/60)\n",
    "d_water = 2 * lambda_ave / np.sin(angles)\n",
    "ud_water = d_water * np.sqrt((u_lambda_ave/lambda_ave)**2 + (u_angles/angles)**2)\n",
    "\n",
    "for i in range(len(freq)):\n",
    "    print('Wavelength of sound at frequency', freq[i], 'MHz is', d_water[i], '±', ud_water[i], 'm')"
   ]
  },
  {
   "cell_type": "code",
   "execution_count": 7,
   "metadata": {},
   "outputs": [
    {
     "name": "stdout",
     "output_type": "stream",
     "text": [
      "The speed of the sound wave is 1594.7172953394584 ± 972.3725825315945 m/s\n"
     ]
    },
    {
     "data": {
      "image/png": "[encoded data removed]",
      "text/plain": [
       "<Figure size 432x288 with 1 Axes>"
      ]
     },
     "metadata": {},
     "output_type": "display_data"
    }
   ],
   "source": [
    "lof_popt, lof_pcov = curve_fit(linear_model, 1/(freq * 10**6), d_water, sigma=ud_water, absolute_sigma=True)\n",
    "\n",
    "lof_a = lof_popt[0]\n",
    "lof_b = lof_popt[1]\n",
    "lof_pvar = np.diag(lof_pcov)\n",
    "lof_stdev = np.sqrt(lof_pvar)\n",
    "\n",
    "lof_y = linear_model(1/(freq * 10**6), lof_a, lof_b)\n",
    "\n",
    "plt.errorbar(1/(freq * 10**6), d_water, marker='o', fmt='.', label='data points')\n",
    "plt.plot(1/(freq * 10**6), lof_y, label='linear fit')\n",
    "plt.title('Wavelength of Sound vs. 1/f')\n",
    "plt.xlabel('1/f (1/Hz)')\n",
    "plt.ylabel('wavelength (m)')\n",
    "plt.legend()\n",
    "\n",
    "print('The speed of the sound wave is', lof_a, '±', lof_stdev[0], 'm/s')"
   ]
  },
  {
   "cell_type": "code",
   "execution_count": 8,
   "metadata": {},
   "outputs": [
    {
     "name": "stdout",
     "output_type": "stream",
     "text": [
      "The chi squared value we got for the fit is 1.9254422755860778\n"
     ]
    }
   ],
   "source": [
    "upper_n = 8\n",
    "lower_n = 2\n",
    "degrees_of_freedom = upper_n - lower_n\n",
    "\n",
    "chi_squared_lof = (1 / degrees_of_freedom) * sum(((d_water[: degrees_of_freedom] - lof_y[: degrees_of_freedom])\\\n",
    "                                            / ud_water[: degrees_of_freedom])**2)\n",
    "\n",
    "print(\"The chi squared value we got for the fit is\", str(chi_squared_lof))"
   ]
  },
  {
   "cell_type": "code",
   "execution_count": null,
   "metadata": {},
   "outputs": [],
   "source": []
  }
 ],
 "metadata": {
  "kernelspec": {
   "display_name": "Python 3",
   "language": "python",
   "name": "python3"
  },
  "language_info": {
   "codemirror_mode": {
    "name": "ipython",
    "version": 3
   },
   "file_extension": ".py",
   "mimetype": "text/x-python",
   "name": "python",
   "nbconvert_exporter": "python",
   "pygments_lexer": "ipython3",
   "version": "3.6.5"
  }
 },
 "nbformat": 4,
 "nbformat_minor": 2
}
