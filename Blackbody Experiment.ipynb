{
 "cells": [
  {
   "cell_type": "code",
   "execution_count": 8,
   "metadata": {},
   "outputs": [],
   "source": [
    "%matplotlib inline\n",
    "import numpy as np\n",
    "import matplotlib.pyplot as plt\n",
    "from scipy.optimize import curve_fit\n",
    "import math"
   ]
  },
  {
   "cell_type": "code",
   "execution_count": 9,
   "metadata": {},
   "outputs": [],
   "source": [
    "# use self defined stdev function because the numpy one calculates population std\n",
    "def stdev(array):\n",
    "    if len(array) <= 1:\n",
    "        return None\n",
    "    mean = np.average(array)\n",
    "    sum_array = (array - mean)**2\n",
    "    return math.sqrt(sum(sum_array)/(len(array)-1))"
   ]
  },
  {
   "cell_type": "code",
   "execution_count": 13,
   "metadata": {},
   "outputs": [
    {
     "name": "stdout",
     "output_type": "stream",
     "text": [
      "The average wavelength is 1093.364475920394 ± 107.64645962365645 nm\n",
      "The average temperature is 2724.839439684341 ± 376.28763952003965 K\n",
      "The average value of T*lambda = 0.002979242645937689 ± 0.0005052744390958888 K*m\n"
     ]
    }
   ],
   "source": [
    "# Wien’s Displacement Law\n",
    "# declaring constants\n",
    "theta_init = 78\n",
    "const_a = 13900\n",
    "const_b = 1.689\n",
    "r_0 = 1.1\n",
    "a_0 = 4.5 * 10**(-3)\n",
    "\n",
    "v_arr, current_arr, peak_angle_arr = np.loadtxt('voltage_current_peak_angles.txt', skiprows=1, unpack=True)\n",
    "theta_arr = theta_init - peak_angle_arr\n",
    "index_refract_arr = np.sqrt(((2/np.sqrt(3)) * np.sin(np.deg2rad(theta_arr)) + 1/2)**2 + 3/4)\n",
    "lambda_arr = np.sqrt(const_a / (index_refract_arr - const_b))\n",
    "lambda_ave = np.mean(lambda_arr) # note that this is in nanometers\n",
    "u_lambda = stdev(lambda_arr)\n",
    "\n",
    "temperature_arr = 300 + ((v_arr/current_arr)/r_0 - 1)/a_0\n",
    "temperature_ave = np.mean(temperature_arr)\n",
    "u_temp = stdev(temperature_arr)\n",
    "\n",
    "temp_lambda = temperature_ave * lambda_ave * 10**(-9)\n",
    "u_temp_lambda = temp_lambda * np.sqrt((u_lambda/lambda_ave)**2 + (u_temp/temperature_ave)**2)\n",
    "\n",
    "print('The average wavelength is', lambda_ave, '±', u_lambda, 'nm')\n",
    "print('The average temperature is', temperature_ave, '±', u_temp, 'K')\n",
    "print('The average value of T*lambda =', temp_lambda, '±', u_temp_lambda, 'K*m')"
   ]
  },
  {
   "cell_type": "code",
   "execution_count": 4,
   "metadata": {},
   "outputs": [],
   "source": [
    "# curvefit model\n",
    "def linear_model(x, a, b):\n",
    "    return a * x + b"
   ]
  },
  {
   "cell_type": "code",
   "execution_count": 14,
   "metadata": {},
   "outputs": [
    {
     "data": {
      "text/plain": [
       "<matplotlib.legend.Legend at 0x1149cce80>"
      ]
     },
     "execution_count": 14,
     "metadata": {},
     "output_type": "execute_result"
    },
    {
     "data": {
      "image/png": "[encoded data removed]",
      "text/plain": [
       "<Figure size 432x288 with 1 Axes>"
      ]
     },
     "metadata": {},
     "output_type": "display_data"
    }
   ],
   "source": [
    "# Stefan-Boltzmann Law\n",
    "_, area_arr = np.loadtxt('voltage_area.txt', skiprows=1, unpack=True)\n",
    "\n",
    "# use curvefit to determine the relationship between power and temperature^4\n",
    "# uncertainty here is an estimate of how the imprecission our judgement of where the start and end is effect the area\n",
    "p_opt, p_cov = curve_fit(linear_model, temperature_arr**4, area_arr, \n",
    "                             sigma=np.array([0.01] * len(area_arr)), absolute_sigma=True)\n",
    "\n",
    "a = p_opt[0]\n",
    "b = p_opt[1]\n",
    "pvar = np.diag(p_cov)\n",
    "stdev = np.sqrt(pvar)\n",
    "\n",
    "y = linear_model(temperature_arr**4, a, b)\n",
    "\n",
    "plt.errorbar(temperature_arr**4, area_arr, yerr=np.array([0.01] * len(area_arr)), ls='', marker='o', lw=1, label=\"Data points\")\n",
    "plt.plot(temperature_arr**4, y, label='Linear fit')\n",
    "plt.title('Area vs. Temperature^4')\n",
    "plt.xlabel('Temperature^4 (K^4)')\n",
    "plt.ylabel('Area under (Volts*Degrees)')\n",
    "plt.legend()"
   ]
  },
  {
   "cell_type": "code",
   "execution_count": 6,
   "metadata": {},
   "outputs": [
    {
     "name": "stdout",
     "output_type": "stream",
     "text": [
      "The chi squared value we got is 13.09163851454133\n"
     ]
    }
   ],
   "source": [
    "# goodness of fit\n",
    "upper_n = len(area_arr) # number of datapoints taken\n",
    "lower_n = 2\n",
    "degrees_of_freedom = upper_n - lower_n\n",
    "\n",
    "# ommiting the first point in the data\n",
    "chi_squared = (1 / degrees_of_freedom) * sum(((area_arr - y)/ np.array([0.01] * len(area_arr)))**2)\n",
    "\n",
    "print('The chi squared value we got is', chi_squared)"
   ]
  },
  {
   "cell_type": "code",
   "execution_count": null,
   "metadata": {},
   "outputs": [],
   "source": []
  }
 ],
 "metadata": {
  "kernelspec": {
   "display_name": "Python 3",
   "language": "python",
   "name": "python3"
  },
  "language_info": {
   "codemirror_mode": {
    "name": "ipython",
    "version": 3
   },
   "file_extension": ".py",
   "mimetype": "text/x-python",
   "name": "python",
   "nbconvert_exporter": "python",
   "pygments_lexer": "ipython3",
   "version": "3.6.5"
  }
 },
 "nbformat": 4,
 "nbformat_minor": 2
}
