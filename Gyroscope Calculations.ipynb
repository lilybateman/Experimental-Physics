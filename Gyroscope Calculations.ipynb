{
 "cells": [
  {
   "cell_type": "code",
   "execution_count": 1,
   "metadata": {},
   "outputs": [],
   "source": [
    "import numpy as np\n",
    "import math"
   ]
  },
  {
   "cell_type": "code",
   "execution_count": 2,
   "metadata": {},
   "outputs": [],
   "source": [
    "# use self defined stdev function because the numpy one calculates population std\n",
    "def stdev(array):\n",
    "    if len(array) <= 1:\n",
    "        return None\n",
    "    mean = np.average(array)\n",
    "    sum_array = (array - mean)**2\n",
    "    return math.sqrt(sum(sum_array)/(len(array)-1))"
   ]
  },
  {
   "cell_type": "code",
   "execution_count": 29,
   "metadata": {},
   "outputs": [
    {
     "name": "stdout",
     "output_type": "stream",
     "text": [
      "The volume of the sphere is 6.832497956025103e-05 ± 1.1969864398799414e-08 m^3\n",
      "0.07422721008072475 1.0756611044451052e-05\n"
     ]
    }
   ],
   "source": [
    "# See steps of integration in report\n",
    "diameter = 50.79 # in mm\n",
    "diameter = diameter / 1000 #convert to meters\n",
    "u_diameter = 0.005 # uncertainty in the digital caliper\n",
    "u_diameter = u_diameter / 1000\n",
    "radius = diameter / 2\n",
    "u_radius = u_diameter / 2\n",
    "\n",
    "truncated_darr = np.loadtxt('sphere_truncated_diameter.txt') / 1000 #convert to meters\n",
    "truncated_diameter = np.mean(truncated_darr)\n",
    "u_truncated_diameter = stdev(truncated_darr) / 1000\n",
    "xi = truncated_diameter - radius\n",
    "u_xi = np.sqrt(u_truncated_diameter**2 + u_radius**2)\n",
    "epsillon = 1 - xi/radius\n",
    "u_epsillon = epsillon * np.sqrt((u_radius/ radius)**2 + (u_xi/ xi)**2)\n",
    "\n",
    "volume = np.pi * (2/3*radius**3 - (epsillon - 1) * radius**3 + (epsillon - 1)**3/3 * radius**3)\n",
    "u_volume = volume * np.sqrt((u_radius/ radius)**2 + (u_epsillon/ epsillon)**2) #percentage error propagation\n",
    "print('The volume of the sphere is', volume, '±', u_volume, 'm^3')\n",
    "print(epsillon, u_epsillon)\n"
   ]
  },
  {
   "cell_type": "code",
   "execution_count": 25,
   "metadata": {},
   "outputs": [
    {
     "name": "stdout",
     "output_type": "stream",
     "text": [
      "The mean period is 638.054 ± 13.021273670421042 s\n"
     ]
    }
   ],
   "source": [
    "periods_arr = np.loadtxt('periods.txt')\n",
    "mean_period = np.mean(periods_arr) #in minutes\n",
    "mean_period = mean_period * 60 #convert to seconds\n",
    "u_period = stdev(periods_arr)\n",
    "u_period = u_period * 60\n",
    "print('The mean period is', mean_period, '±', u_period, 's')"
   ]
  },
  {
   "cell_type": "code",
   "execution_count": 33,
   "metadata": {},
   "outputs": [
    {
     "name": "stdout",
     "output_type": "stream",
     "text": [
      "The experimental value of g is 9.838167916628366 ± 0.20078268770648358 m/s^2\n",
      "3.7123896351428654 0.07576167755461101\n"
     ]
    }
   ],
   "source": [
    "precession_ang_v = 2 * np.pi / mean_period\n",
    "u_precession_ang_v = precession_ang_v * np.sqrt((u_period/mean_period)**2)\n",
    "rotation_ang_f = 2 * np.pi * 60 #60 Hz, assume no uncertainty in this since the locking system requires this to be very precise\n",
    "l_over_i = precession_ang_v * rotation_ang_f\n",
    "u_l_over_i = l_over_i * np.sqrt((u_precession_ang_v/precession_ang_v)**2)\n",
    "g = l_over_i /(5 * epsillon**2) * 2 * radius * (2 - epsillon) * (epsillon**2 + epsillon + 2/3)\n",
    "u_g = g * np.sqrt((u_l_over_i/l_over_i)**2 + (u_epsillon/epsillon)**2 + (u_radius/radius)**2)\n",
    "\n",
    "print('The experimental value of g is', g, '±', u_g, 'm/s^2')"
   ]
  },
  {
   "cell_type": "code",
   "execution_count": null,
   "metadata": {},
   "outputs": [],
   "source": []
  }
 ],
 "metadata": {
  "kernelspec": {
   "display_name": "Python 3",
   "language": "python",
   "name": "python3"
  },
  "language_info": {
   "codemirror_mode": {
    "name": "ipython",
    "version": 3
   },
   "file_extension": ".py",
   "mimetype": "text/x-python",
   "name": "python",
   "nbconvert_exporter": "python",
   "pygments_lexer": "ipython3",
   "version": "3.6.5"
  }
 },
 "nbformat": 4,
 "nbformat_minor": 2
}
