{
 "cells": [
  {
   "cell_type": "code",
   "execution_count": 1,
   "metadata": {},
   "outputs": [],
   "source": [
    "import numpy as np\n",
    "from scipy.optimize import curve_fit\n",
    "%matplotlib inline\n",
    "import matplotlib.pyplot as plt"
   ]
  },
  {
   "cell_type": "code",
   "execution_count": 2,
   "metadata": {},
   "outputs": [],
   "source": [
    "#defining models\n",
    "def model_linear(x, a, b):\n",
    "    return a * x + b\n",
    "\n",
    "def model_exp(x, a, b):\n",
    "    return b * np.exp(a * x)"
   ]
  },
  {
   "cell_type": "code",
   "execution_count": 3,
   "metadata": {},
   "outputs": [],
   "source": [
    "#load txt files\n",
    "time_arr, cs_decay_arr = np.loadtxt(\"./Radioactive Decay Cs (20sec).txt\", skiprows=2, unpack=True)\n",
    "_, background_arr = np.loadtxt(\"./Radioactive Background 20min(20secdwell).txt\", skiprows=2, unpack=True)\n",
    "\n",
    "mean_background = np.mean(background_arr)\n",
    "combined_arr = np.copy(cs_decay_arr)\n",
    "for i in range(len(combined_arr)):\n",
    "    combined_arr[i] = combined_arr[i] - mean_background"
   ]
  },
  {
   "cell_type": "code",
   "execution_count": 4,
   "metadata": {},
   "outputs": [],
   "source": [
    "error_s = np.sqrt(cs_decay_arr + background_arr)"
   ]
  },
  {
   "cell_type": "code",
   "execution_count": 5,
   "metadata": {},
   "outputs": [],
   "source": [
    "rate_arr = combined_arr / 20\n",
    "rate_error_arr = np.sqrt(combined_arr) / 20"
   ]
  },
  {
   "cell_type": "code",
   "execution_count": 6,
   "metadata": {},
   "outputs": [],
   "source": [
    "error_exp = np.abs(error_s / combined_arr)\n",
    "linear_p_opt, linear_p_cov = curve_fit(model_linear, time_arr * 20, np.log(combined_arr), \\\n",
    "                                       sigma=error_exp, absolute_sigma=True)"
   ]
  },
  {
   "cell_type": "code",
   "execution_count": 7,
   "metadata": {},
   "outputs": [],
   "source": [
    "none_linear_p_opt, none_linear_p_cov = curve_fit(model_exp, time_arr * 20, combined_arr, \\\n",
    "                                                 (-4.5 * 10**(-3), 1200), error_s, True)"
   ]
  },
  {
   "cell_type": "code",
   "execution_count": 8,
   "metadata": {},
   "outputs": [
    {
     "name": "stdout",
     "output_type": "stream",
     "text": [
      "The parameters predicted for the linear model is a = -0.004503503875377196 ± 4.6890915125113546e-05 /s; b = 7.088155064138444 ± 0.01357809066560596 s\n",
      "The variance of parameter a is 2.1987579212706026e-09 /s; and of parameter b is 0.0001843645461234157 s \n",
      "\n",
      "The parameters predicted for the none linear model is a = -0.004571076616262783 ± 4.691751208527998e-05 /s; b = 1207.846477569542 ± 16.34476479378523 s\n",
      "The variance of parameter a is 2.201252940272393e-09 /s; and of parameter b is 267.15133616416114 s\n"
     ]
    }
   ],
   "source": [
    "linear_a = linear_p_opt[0]\n",
    "linear_b = linear_p_opt[1]\n",
    "none_linear_a = none_linear_p_opt[0]\n",
    "none_linear_b = none_linear_p_opt[1]\n",
    "\n",
    "linear_pvar = np.diag(linear_p_cov)\n",
    "linear_stdev = np.sqrt(linear_pvar)\n",
    "none_linear_pvar = np.diag(none_linear_p_cov)\n",
    "none_linear_stdev = np.sqrt(none_linear_pvar)\n",
    "\n",
    "print(\"The parameters predicted for the linear model is a =\", linear_a, \"±\", str(linear_stdev[0]) + \" /s;\", \"b =\", linear_b, \"±\", linear_stdev[1], 's')\n",
    "print(\"The variance of parameter a is\", linear_pvar[0], '/s;', \"and of parameter b is\", linear_pvar[1], 's', '\\n')\n",
    "print(\"The parameters predicted for the none linear model is a =\", none_linear_a, \"±\", str(none_linear_stdev[0]) + \" /s;\", \"b =\", none_linear_b, \"±\", none_linear_stdev[1], 's')\n",
    "print(\"The variance of parameter a is\", none_linear_pvar[0], '/s;', \"and of parameter b is\", none_linear_pvar[1], 's')"
   ]
  },
  {
   "cell_type": "code",
   "execution_count": 9,
   "metadata": {},
   "outputs": [
    {
     "name": "stdout",
     "output_type": "stream",
     "text": [
      "The half life calculated from the linear fit model yields t = 153.91286423660287 ± 2.3160493827160504 s\n",
      "The half life calcualted from the none linear fit model yields t = 151.63762035707202 ± 2.245641587941527 s\n"
     ]
    }
   ],
   "source": [
    "# Calculate the half life using the two values of a\n",
    "# a = - 1/half life\n",
    "half_life_l = np.log(0.5) / linear_a # see report for derivation (inside question 1)\n",
    "half_life_nl = np.log(0.5) / none_linear_a\n",
    "\n",
    "delta_tl = np.abs((-0.0045) ** (-2) * 4.69 * 10**(-5)) #see uncertainty propagation in report Question 1\n",
    "delta_tnl = np.abs((-0.00457) ** (-2) * 4.69 * 10**(-5))\n",
    "\n",
    "print(\"The half life calculated from the linear fit model yields t =\", half_life_l, '±', delta_tl, \"s\")\n",
    "print(\"The half life calcualted from the none linear fit model yields t =\", half_life_nl, '±', delta_tnl, \"s\")"
   ]
  },
  {
   "cell_type": "code",
   "execution_count": 10,
   "metadata": {},
   "outputs": [
    {
     "data": {
      "text/plain": [
       "<matplotlib.legend.Legend at 0x112b7f320>"
      ]
     },
     "execution_count": 10,
     "metadata": {},
     "output_type": "execute_result"
    },
    {
     "data": {
      "image/png": "[encoded data removed]",
      "text/plain": [
       "<Figure size 432x288 with 1 Axes>"
      ]
     },
     "metadata": {},
     "output_type": "display_data"
    }
   ],
   "source": [
    "linear_fit_y = model_linear(time_arr * 20, linear_a, linear_b)\n",
    "none_linear_fit_y = model_exp(time_arr * 20, none_linear_a, none_linear_b)\n",
    "\n",
    "theoretical_a = np.log(0.5) / (2.6 * 60)\n",
    "theoretical_b = np.log(combined_arr[0]) - linear_a * time_arr[0] * 20\n",
    "theoretical_fit_y = model_exp(time_arr * 20, theoretical_a, np.exp(theoretical_b))\n",
    "\n",
    "plt.errorbar(time_arr * 20, combined_arr, yerr=error_s, ls='', marker='o', lw=1, label=\"Data points\")\n",
    "plt.plot(time_arr * 20, np.exp(linear_fit_y), label=\"linear fit\")\n",
    "plt.plot(time_arr * 20, none_linear_fit_y, label=\"nonlinear fit\")\n",
    "plt.plot(time_arr * 20, theoretical_fit_y, label=\"theoretical fit\")\n",
    "plt.xlabel(\"Time (s)\")\n",
    "plt.ylabel(\"Number of particles left\")\n",
    "plt.title(\"Exponential Decay of Cs for 1200 Seconds\")\n",
    "plt.savefig('/Users/qinchenwang/Desktop/asdkf.png')\n",
    "plt.legend()"
   ]
  },
  {
   "cell_type": "code",
   "execution_count": 11,
   "metadata": {},
   "outputs": [
    {
     "data": {
      "text/plain": [
       "<matplotlib.legend.Legend at 0x101e8a4898>"
      ]
     },
     "execution_count": 11,
     "metadata": {},
     "output_type": "execute_result"
    },
    {
     "data": {
      "image/png": "[encoded data removed]",
      "text/plain": [
       "<Figure size 432x288 with 1 Axes>"
      ]
     },
     "metadata": {},
     "output_type": "display_data"
    }
   ],
   "source": [
    "from matplotlib import pylab\n",
    "linear_fit_y = model_linear(time_arr * 20, linear_a, linear_b)\n",
    "none_linear_fit_y = model_exp(time_arr * 20, none_linear_a, none_linear_b)\n",
    "\n",
    "theoretical_a = np.log(0.5) / (2.6 * 60)\n",
    "theoretical_b = np.log(combined_arr[0]) - linear_a * time_arr[0] * 20\n",
    "theoretical_fit_y = model_exp(time_arr * 20, theoretical_a, np.exp(theoretical_b))\n",
    "\n",
    "plt.errorbar(time_arr * 20, combined_arr, yerr=error_s, ls='', marker='o', lw=1, label=\"Data points\")\n",
    "plt.plot(time_arr * 20, np.exp(linear_fit_y), label=\"linear fit\")\n",
    "plt.plot(time_arr * 20, none_linear_fit_y, label=\"nonlinear fit\")\n",
    "plt.plot(time_arr * 20, theoretical_fit_y, label=\"theoretical fit\")\n",
    "plt.xlabel(\"Time (s)\")\n",
    "plt.ylabel(\"Number of particles left\")\n",
    "plt.title(\"Linear Graph of Exponential Decay of Cs for 1200 Seconds\")\n",
    "pylab.semilogy()\n",
    "plt.legend()"
   ]
  },
  {
   "cell_type": "code",
   "execution_count": 12,
   "metadata": {},
   "outputs": [],
   "source": [
    "linear_sigma_half = np.abs(np.log(0.5) * linear_stdev[0] / linear_a**2) #see error propagation in report question 1\n",
    "nl_sigma_half = np.abs(np.log(0.5) * none_linear_stdev[0] / none_linear_a**2)"
   ]
  },
  {
   "cell_type": "code",
   "execution_count": 13,
   "metadata": {},
   "outputs": [
    {
     "name": "stdout",
     "output_type": "stream",
     "text": [
      "The linear parameters yield a sigma_half of 1.6025555330464087 s\n",
      "The nonlinear parameters yield a sigma_half of 1.5564079281398389 s\n"
     ]
    }
   ],
   "source": [
    "print(\"The linear parameters yield a sigma_half of\", linear_sigma_half, \"s\")\n",
    "print(\"The nonlinear parameters yield a sigma_half of\", nl_sigma_half, \"s\")"
   ]
  },
  {
   "cell_type": "code",
   "execution_count": 14,
   "metadata": {},
   "outputs": [],
   "source": [
    "degrees_of_freedom = 60 - 2\n",
    "\n",
    "predicted = model_exp(time_arr * 20, none_linear_a, none_linear_b)\n",
    "\n",
    "chi_squared = (1 / degrees_of_freedom) * sum(((combined_arr[: degrees_of_freedom] - predicted[: degrees_of_freedom])\\\n",
    "                                            / error_s[: degrees_of_freedom])**2)"
   ]
  },
  {
   "cell_type": "code",
   "execution_count": 15,
   "metadata": {},
   "outputs": [
    {
     "name": "stdout",
     "output_type": "stream",
     "text": [
      "The chi-squared value we obtained is 0.7993037330502136\n"
     ]
    }
   ],
   "source": [
    "print(\"The chi-squared value we obtained is\", chi_squared)"
   ]
  },
  {
   "cell_type": "code",
   "execution_count": null,
   "metadata": {},
   "outputs": [],
   "source": []
  }
 ],
 "metadata": {
  "kernelspec": {
   "display_name": "Python 3",
   "language": "python",
   "name": "python3"
  },
  "language_info": {
   "codemirror_mode": {
    "name": "ipython",
    "version": 3
   },
   "file_extension": ".py",
   "mimetype": "text/x-python",
   "name": "python",
   "nbconvert_exporter": "python",
   "pygments_lexer": "ipython3",
   "version": "3.6.5"
  }
 },
 "nbformat": 4,
 "nbformat_minor": 2
}
